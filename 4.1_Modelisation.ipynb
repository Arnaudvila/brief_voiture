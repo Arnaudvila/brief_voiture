{
 "cells": [
  {
   "cell_type": "code",
   "execution_count": 53,
   "metadata": {},
   "outputs": [],
   "source": [
    "import pandas as pd\n",
    "from numpy import asarray\n",
    "from sklearn.model_selection import train_test_split\n",
    "from sklearn.pipeline import Pipeline\n",
    "from sklearn.preprocessing import MinMaxScaler, StandardScaler, RobustScaler, OneHotEncoder, PolynomialFeatures\n",
    "from sklearn.compose import ColumnTransformer\n",
    "from sklearn.linear_model import LinearRegression\n",
    "import pickle"
   ]
  },
  {
   "attachments": {},
   "cell_type": "markdown",
   "metadata": {},
   "source": [
    "### Régression Linéaire"
   ]
  },
  {
   "cell_type": "markdown",
   "metadata": {},
   "source": [
    "Import"
   ]
  },
  {
   "cell_type": "code",
   "execution_count": 54,
   "metadata": {},
   "outputs": [],
   "source": [
    "df = pd.read_csv('data/cars_cleaned.csv')"
   ]
  },
  {
   "cell_type": "markdown",
   "metadata": {},
   "source": [
    "Répartition"
   ]
  },
  {
   "cell_type": "code",
   "execution_count": 55,
   "metadata": {},
   "outputs": [],
   "source": [
    "y = df['prix']\n",
    "X = df[['type_carburant', 'aspiration', 'nombre_portes', 'type_carrosserie',\n",
    "       'roues_motrices', 'emplacement_moteur', 'empattement',\n",
    "       'longueur_voiture', 'largeur_voiture', 'hauteur_voiture', 'poids_vide',\n",
    "       'type_moteur', 'nombre_cylindres', 'taille_moteur', 'systeme_carburant',\n",
    "       'alesage', 'course', 'taux_compression', 'puissance', 'trmin_max',\n",
    "       'consommation_ville', 'consommation_autoroute', 'marque',\n",
    "       'modele']]\n"
   ]
  },
  {
   "cell_type": "markdown",
   "metadata": {},
   "source": [
    "Preparation du pipeline"
   ]
  },
  {
   "cell_type": "code",
   "execution_count": 56,
   "metadata": {},
   "outputs": [],
   "source": [
    "X_train, X_test, y_train, y_test = train_test_split(\n",
    "    X, y, train_size=0.8, random_state=42\n",
    "    )"
   ]
  },
  {
   "cell_type": "code",
   "execution_count": 57,
   "metadata": {},
   "outputs": [],
   "source": [
    "numeric_features = [    'longueur_voiture',    'hauteur_voiture',    'largeur_voiture',    'empattement',    'taille_moteur',    'poids_vide',    'consommation_ville',    'consommation_autoroute',    'puissance',    'trmin_max',    'nombre_cylindres',    'alesage',    'course',    'taux_compression',    ]\n",
    "\n",
    "categorial_features = [    'marque',    'modele',    'type_carrosserie',    'nombre_portes',    'type_carburant',    'emplacement_moteur',    'systeme_carburant',    'aspiration',    'roues_motrices',    'type_moteur']\n"
   ]
  },
  {
   "cell_type": "code",
   "execution_count": 58,
   "metadata": {},
   "outputs": [],
   "source": [
    "#preparation des transformateurs numériques\n",
    "numeric_transformer_minmax = Pipeline([('minmax', MinMaxScaler())])\n",
    "numeric_transformer_std = Pipeline([('standard', StandardScaler())])\n",
    "numeric_transformer_rbst = Pipeline([('standard', RobustScaler()),])"
   ]
  },
  {
   "cell_type": "code",
   "execution_count": 59,
   "metadata": {},
   "outputs": [],
   "source": [
    "categorial_transformer = OneHotEncoder(sparse_output=True, handle_unknown='ignore')"
   ]
  },
  {
   "cell_type": "code",
   "execution_count": 60,
   "metadata": {},
   "outputs": [],
   "source": [
    "preprocessor_minmax = ColumnTransformer(\n",
    "    transformers=[\n",
    "        ('num', numeric_transformer_minmax, numeric_features),\n",
    "        ('cat', categorial_transformer, categorial_features)\n",
    "    ],\n",
    "    remainder='passthrough'\n",
    ")\n",
    "\n",
    "preprocessor_std = ColumnTransformer(\n",
    "    transformers=[\n",
    "        ('num', numeric_transformer_std, numeric_features),\n",
    "        ('cat', categorial_transformer, categorial_features)\n",
    "    ],\n",
    "    remainder='passthrough'\n",
    ")\n",
    "\n",
    "preprocessor_rbst = ColumnTransformer(\n",
    "    transformers=[\n",
    "        ('num', numeric_transformer_rbst, numeric_features),\n",
    "        ('cat', categorial_transformer, categorial_features)\n",
    "    ],\n",
    "    remainder='passthrough'\n",
    ")"
   ]
  },
  {
   "cell_type": "markdown",
   "metadata": {},
   "source": [
    "Estimateur"
   ]
  },
  {
   "cell_type": "code",
   "execution_count": 61,
   "metadata": {},
   "outputs": [],
   "source": [
    "lnr = LinearRegression()"
   ]
  },
  {
   "cell_type": "code",
   "execution_count": 62,
   "metadata": {},
   "outputs": [
    {
     "data": {
      "text/plain": [
       "0.7995277415878961"
      ]
     },
     "execution_count": 62,
     "metadata": {},
     "output_type": "execute_result"
    }
   ],
   "source": [
    "pipe = Pipeline([\n",
    "    ('prep', preprocessor_rbst),\n",
    "    ('lnr', lnr)\n",
    "])\n",
    "\n",
    "trained_pipe = pipe.fit(X_train, y_train)\n",
    "trained_pipe.predict(X_test)\n",
    "trained_pipe.score(X_test, y_test)"
   ]
  },
  {
   "cell_type": "code",
   "execution_count": 63,
   "metadata": {},
   "outputs": [],
   "source": [
    "pickle.dump(trained_pipe, open('data/trained_pipe.pkl', 'wb'))"
   ]
  }
 ],
 "metadata": {
  "kernelspec": {
   "display_name": "Python 3",
   "language": "python",
   "name": "python3"
  },
  "language_info": {
   "codemirror_mode": {
    "name": "ipython",
    "version": 3
   },
   "file_extension": ".py",
   "mimetype": "text/x-python",
   "name": "python",
   "nbconvert_exporter": "python",
   "pygments_lexer": "ipython3",
   "version": "3.11.3"
  },
  "orig_nbformat": 4
 },
 "nbformat": 4,
 "nbformat_minor": 2
}
