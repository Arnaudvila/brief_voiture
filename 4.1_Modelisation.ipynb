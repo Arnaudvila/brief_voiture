{
 "cells": [
  {
   "cell_type": "code",
   "execution_count": 9,
   "metadata": {},
   "outputs": [],
   "source": [
    "import pandas as pd\n",
    "import numpy as np\n",
    "import pickle\n",
    "from sklearn.ensemble import RandomForestRegressor\n",
    "from sklearn.feature_selection import SelectKBest, f_regression\n",
    "from sklearn.model_selection import GridSearchCV\n",
    "from sklearn.pipeline import Pipeline\n",
    "from sklearn.metrics import mean_squared_error\n",
    "from sklearn.model_selection import train_test_split\n",
    "from sklearn.preprocessing import MinMaxScaler, StandardScaler, RobustScaler, OneHotEncoder\n",
    "from sklearn.compose import ColumnTransformer"
   ]
  },
  {
   "attachments": {},
   "cell_type": "markdown",
   "metadata": {},
   "source": [
    "### Régression Linéaire"
   ]
  },
  {
   "cell_type": "markdown",
   "metadata": {},
   "source": [
    "Import"
   ]
  },
  {
   "cell_type": "code",
   "execution_count": 10,
   "metadata": {},
   "outputs": [],
   "source": [
    "df = pd.read_csv('data/cars_cleaned.csv')"
   ]
  },
  {
   "cell_type": "markdown",
   "metadata": {},
   "source": [
    "Répartition"
   ]
  },
  {
   "cell_type": "code",
   "execution_count": 11,
   "metadata": {},
   "outputs": [],
   "source": [
    "y = df['prix']\n",
    "X = df[['type_carburant', 'aspiration', 'nombre_portes', 'type_carrosserie',\n",
    "       'roues_motrices', 'emplacement_moteur', 'empattement',\n",
    "       'longueur_voiture', 'largeur_voiture', 'hauteur_voiture', 'poids_vide',\n",
    "       'type_moteur', 'nombre_cylindres', 'taille_moteur', 'systeme_carburant',\n",
    "       'alesage', 'course', 'taux_compression', 'puissance', 'trmin_max',\n",
    "       'consommation_ville', 'consommation_autoroute', 'marque',\n",
    "       'modele']]\n"
   ]
  },
  {
   "cell_type": "markdown",
   "metadata": {},
   "source": [
    "Preparation du pipeline"
   ]
  },
  {
   "cell_type": "code",
   "execution_count": 12,
   "metadata": {},
   "outputs": [],
   "source": [
    "# Diviser les données en ensembles d'entraînement et de test\n",
    "X_train, X_test, y_train, y_test = train_test_split(X, y, train_size=0.8, random_state=42)"
   ]
  },
  {
   "cell_type": "code",
   "execution_count": 13,
   "metadata": {},
   "outputs": [],
   "source": [
    "numeric_features = [\n",
    "    'longueur_voiture', 'hauteur_voiture', 'largeur_voiture', 'empattement', 'taille_moteur',\n",
    "    'poids_vide', 'consommation_ville', 'consommation_autoroute', 'puissance', 'trmin_max',\n",
    "    'nombre_cylindres', 'alesage', 'course', 'taux_compression'\n",
    "]\n",
    "\n",
    "categorial_features = [\n",
    "    'marque', 'modele', 'type_carrosserie', 'nombre_portes', 'type_carburant', 'emplacement_moteur',\n",
    "    'systeme_carburant', 'aspiration', 'roues_motrices', 'type_moteur'\n",
    "]"
   ]
  },
  {
   "cell_type": "code",
   "execution_count": 14,
   "metadata": {},
   "outputs": [],
   "source": [
    "numeric_transformer_minmax = Pipeline([('minmax', MinMaxScaler())])\n",
    "numeric_transformer_std = Pipeline([('standard', StandardScaler())])\n",
    "numeric_transformer_rbst = Pipeline([('standard', RobustScaler())])"
   ]
  },
  {
   "cell_type": "code",
   "execution_count": 15,
   "metadata": {},
   "outputs": [],
   "source": [
    "categorial_transformer = OneHotEncoder(sparse_output=True, handle_unknown='ignore')"
   ]
  },
  {
   "cell_type": "code",
   "execution_count": 16,
   "metadata": {},
   "outputs": [],
   "source": [
    "# Add feature selection\n",
    "numeric_transformer_rbst = Pipeline([\n",
    "    ('standard', RobustScaler()),\n",
    "    ('selection', SelectKBest(score_func=f_regression, k=10))  # choose 10 best features\n",
    "])"
   ]
  },
  {
   "cell_type": "code",
   "execution_count": 17,
   "metadata": {},
   "outputs": [],
   "source": [
    "# Update preprocessor with feature selection\n",
    "preprocessor_rbst = ColumnTransformer(\n",
    "    transformers=[\n",
    "        ('num', numeric_transformer_rbst, numeric_features),\n",
    "        ('cat', categorial_transformer, categorial_features)\n",
    "    ],\n",
    "    remainder='passthrough'\n",
    ")"
   ]
  },
  {
   "cell_type": "code",
   "execution_count": 18,
   "metadata": {},
   "outputs": [],
   "source": [
    "# Create pipeline with RandomForestRegressor\n",
    "rf = RandomForestRegressor(random_state=42)\n",
    "pipe_rf = Pipeline([\n",
    "    ('prep', preprocessor_rbst),\n",
    "    ('rf', rf)\n",
    "])"
   ]
  },
  {
   "cell_type": "code",
   "execution_count": 19,
   "metadata": {},
   "outputs": [
    {
     "name": "stdout",
     "output_type": "stream",
     "text": [
      "Fitting 5 folds for each of 108 candidates, totalling 540 fits\n"
     ]
    },
    {
     "data": {
      "text/html": [
       "<style>#sk-container-id-1 {color: black;background-color: white;}#sk-container-id-1 pre{padding: 0;}#sk-container-id-1 div.sk-toggleable {background-color: white;}#sk-container-id-1 label.sk-toggleable__label {cursor: pointer;display: block;width: 100%;margin-bottom: 0;padding: 0.3em;box-sizing: border-box;text-align: center;}#sk-container-id-1 label.sk-toggleable__label-arrow:before {content: \"▸\";float: left;margin-right: 0.25em;color: #696969;}#sk-container-id-1 label.sk-toggleable__label-arrow:hover:before {color: black;}#sk-container-id-1 div.sk-estimator:hover label.sk-toggleable__label-arrow:before {color: black;}#sk-container-id-1 div.sk-toggleable__content {max-height: 0;max-width: 0;overflow: hidden;text-align: left;background-color: #f0f8ff;}#sk-container-id-1 div.sk-toggleable__content pre {margin: 0.2em;color: black;border-radius: 0.25em;background-color: #f0f8ff;}#sk-container-id-1 input.sk-toggleable__control:checked~div.sk-toggleable__content {max-height: 200px;max-width: 100%;overflow: auto;}#sk-container-id-1 input.sk-toggleable__control:checked~label.sk-toggleable__label-arrow:before {content: \"▾\";}#sk-container-id-1 div.sk-estimator input.sk-toggleable__control:checked~label.sk-toggleable__label {background-color: #d4ebff;}#sk-container-id-1 div.sk-label input.sk-toggleable__control:checked~label.sk-toggleable__label {background-color: #d4ebff;}#sk-container-id-1 input.sk-hidden--visually {border: 0;clip: rect(1px 1px 1px 1px);clip: rect(1px, 1px, 1px, 1px);height: 1px;margin: -1px;overflow: hidden;padding: 0;position: absolute;width: 1px;}#sk-container-id-1 div.sk-estimator {font-family: monospace;background-color: #f0f8ff;border: 1px dotted black;border-radius: 0.25em;box-sizing: border-box;margin-bottom: 0.5em;}#sk-container-id-1 div.sk-estimator:hover {background-color: #d4ebff;}#sk-container-id-1 div.sk-parallel-item::after {content: \"\";width: 100%;border-bottom: 1px solid gray;flex-grow: 1;}#sk-container-id-1 div.sk-label:hover label.sk-toggleable__label {background-color: #d4ebff;}#sk-container-id-1 div.sk-serial::before {content: \"\";position: absolute;border-left: 1px solid gray;box-sizing: border-box;top: 0;bottom: 0;left: 50%;z-index: 0;}#sk-container-id-1 div.sk-serial {display: flex;flex-direction: column;align-items: center;background-color: white;padding-right: 0.2em;padding-left: 0.2em;position: relative;}#sk-container-id-1 div.sk-item {position: relative;z-index: 1;}#sk-container-id-1 div.sk-parallel {display: flex;align-items: stretch;justify-content: center;background-color: white;position: relative;}#sk-container-id-1 div.sk-item::before, #sk-container-id-1 div.sk-parallel-item::before {content: \"\";position: absolute;border-left: 1px solid gray;box-sizing: border-box;top: 0;bottom: 0;left: 50%;z-index: -1;}#sk-container-id-1 div.sk-parallel-item {display: flex;flex-direction: column;z-index: 1;position: relative;background-color: white;}#sk-container-id-1 div.sk-parallel-item:first-child::after {align-self: flex-end;width: 50%;}#sk-container-id-1 div.sk-parallel-item:last-child::after {align-self: flex-start;width: 50%;}#sk-container-id-1 div.sk-parallel-item:only-child::after {width: 0;}#sk-container-id-1 div.sk-dashed-wrapped {border: 1px dashed gray;margin: 0 0.4em 0.5em 0.4em;box-sizing: border-box;padding-bottom: 0.4em;background-color: white;}#sk-container-id-1 div.sk-label label {font-family: monospace;font-weight: bold;display: inline-block;line-height: 1.2em;}#sk-container-id-1 div.sk-label-container {text-align: center;}#sk-container-id-1 div.sk-container {/* jupyter's `normalize.less` sets `[hidden] { display: none; }` but bootstrap.min.css set `[hidden] { display: none !important; }` so we also need the `!important` here to be able to override the default hidden behavior on the sphinx rendered scikit-learn.org. See: https://github.com/scikit-learn/scikit-learn/issues/21755 */display: inline-block !important;position: relative;}#sk-container-id-1 div.sk-text-repr-fallback {display: none;}</style><div id=\"sk-container-id-1\" class=\"sk-top-container\"><div class=\"sk-text-repr-fallback\"><pre>GridSearchCV(cv=5,\n",
       "             estimator=Pipeline(steps=[(&#x27;prep&#x27;,\n",
       "                                        ColumnTransformer(remainder=&#x27;passthrough&#x27;,\n",
       "                                                          transformers=[(&#x27;num&#x27;,\n",
       "                                                                         Pipeline(steps=[(&#x27;standard&#x27;,\n",
       "                                                                                          RobustScaler()),\n",
       "                                                                                         (&#x27;selection&#x27;,\n",
       "                                                                                          SelectKBest(score_func=&lt;function f_regression at 0x130f9a980&gt;))]),\n",
       "                                                                         [&#x27;longueur_voiture&#x27;,\n",
       "                                                                          &#x27;hauteur_voiture&#x27;,\n",
       "                                                                          &#x27;largeur_voiture&#x27;,\n",
       "                                                                          &#x27;empattement&#x27;,\n",
       "                                                                          &#x27;taille_moteur&#x27;,\n",
       "                                                                          &#x27;poids_vide&#x27;,\n",
       "                                                                          &#x27;consommation_vi...\n",
       "                                                                          &#x27;type_carburant&#x27;,\n",
       "                                                                          &#x27;emplacement_moteur&#x27;,\n",
       "                                                                          &#x27;systeme_carburant&#x27;,\n",
       "                                                                          &#x27;aspiration&#x27;,\n",
       "                                                                          &#x27;roues_motrices&#x27;,\n",
       "                                                                          &#x27;type_moteur&#x27;])])),\n",
       "                                       (&#x27;rf&#x27;,\n",
       "                                        RandomForestRegressor(random_state=42))]),\n",
       "             n_jobs=-1,\n",
       "             param_grid={&#x27;rf__max_depth&#x27;: [None, 10, 20, 30],\n",
       "                         &#x27;rf__min_samples_leaf&#x27;: [1, 2, 4],\n",
       "                         &#x27;rf__min_samples_split&#x27;: [2, 5, 10],\n",
       "                         &#x27;rf__n_estimators&#x27;: [100, 200, 500]},\n",
       "             scoring=&#x27;neg_mean_squared_error&#x27;, verbose=1)</pre><b>In a Jupyter environment, please rerun this cell to show the HTML representation or trust the notebook. <br />On GitHub, the HTML representation is unable to render, please try loading this page with nbviewer.org.</b></div><div class=\"sk-container\" hidden><div class=\"sk-item sk-dashed-wrapped\"><div class=\"sk-label-container\"><div class=\"sk-label sk-toggleable\"><input class=\"sk-toggleable__control sk-hidden--visually\" id=\"sk-estimator-id-1\" type=\"checkbox\" ><label for=\"sk-estimator-id-1\" class=\"sk-toggleable__label sk-toggleable__label-arrow\">GridSearchCV</label><div class=\"sk-toggleable__content\"><pre>GridSearchCV(cv=5,\n",
       "             estimator=Pipeline(steps=[(&#x27;prep&#x27;,\n",
       "                                        ColumnTransformer(remainder=&#x27;passthrough&#x27;,\n",
       "                                                          transformers=[(&#x27;num&#x27;,\n",
       "                                                                         Pipeline(steps=[(&#x27;standard&#x27;,\n",
       "                                                                                          RobustScaler()),\n",
       "                                                                                         (&#x27;selection&#x27;,\n",
       "                                                                                          SelectKBest(score_func=&lt;function f_regression at 0x130f9a980&gt;))]),\n",
       "                                                                         [&#x27;longueur_voiture&#x27;,\n",
       "                                                                          &#x27;hauteur_voiture&#x27;,\n",
       "                                                                          &#x27;largeur_voiture&#x27;,\n",
       "                                                                          &#x27;empattement&#x27;,\n",
       "                                                                          &#x27;taille_moteur&#x27;,\n",
       "                                                                          &#x27;poids_vide&#x27;,\n",
       "                                                                          &#x27;consommation_vi...\n",
       "                                                                          &#x27;type_carburant&#x27;,\n",
       "                                                                          &#x27;emplacement_moteur&#x27;,\n",
       "                                                                          &#x27;systeme_carburant&#x27;,\n",
       "                                                                          &#x27;aspiration&#x27;,\n",
       "                                                                          &#x27;roues_motrices&#x27;,\n",
       "                                                                          &#x27;type_moteur&#x27;])])),\n",
       "                                       (&#x27;rf&#x27;,\n",
       "                                        RandomForestRegressor(random_state=42))]),\n",
       "             n_jobs=-1,\n",
       "             param_grid={&#x27;rf__max_depth&#x27;: [None, 10, 20, 30],\n",
       "                         &#x27;rf__min_samples_leaf&#x27;: [1, 2, 4],\n",
       "                         &#x27;rf__min_samples_split&#x27;: [2, 5, 10],\n",
       "                         &#x27;rf__n_estimators&#x27;: [100, 200, 500]},\n",
       "             scoring=&#x27;neg_mean_squared_error&#x27;, verbose=1)</pre></div></div></div><div class=\"sk-parallel\"><div class=\"sk-parallel-item\"><div class=\"sk-item\"><div class=\"sk-label-container\"><div class=\"sk-label sk-toggleable\"><input class=\"sk-toggleable__control sk-hidden--visually\" id=\"sk-estimator-id-2\" type=\"checkbox\" ><label for=\"sk-estimator-id-2\" class=\"sk-toggleable__label sk-toggleable__label-arrow\">estimator: Pipeline</label><div class=\"sk-toggleable__content\"><pre>Pipeline(steps=[(&#x27;prep&#x27;,\n",
       "                 ColumnTransformer(remainder=&#x27;passthrough&#x27;,\n",
       "                                   transformers=[(&#x27;num&#x27;,\n",
       "                                                  Pipeline(steps=[(&#x27;standard&#x27;,\n",
       "                                                                   RobustScaler()),\n",
       "                                                                  (&#x27;selection&#x27;,\n",
       "                                                                   SelectKBest(score_func=&lt;function f_regression at 0x130f9a980&gt;))]),\n",
       "                                                  [&#x27;longueur_voiture&#x27;,\n",
       "                                                   &#x27;hauteur_voiture&#x27;,\n",
       "                                                   &#x27;largeur_voiture&#x27;,\n",
       "                                                   &#x27;empattement&#x27;,\n",
       "                                                   &#x27;taille_moteur&#x27;,\n",
       "                                                   &#x27;poids_vide&#x27;,\n",
       "                                                   &#x27;consommation_ville&#x27;,\n",
       "                                                   &#x27;consommation_autoroute&#x27;,\n",
       "                                                   &#x27;puissance&#x27;, &#x27;trmin_max&#x27;,\n",
       "                                                   &#x27;nombre_cylindres&#x27;,\n",
       "                                                   &#x27;alesage&#x27;, &#x27;course&#x27;,\n",
       "                                                   &#x27;taux_compression&#x27;]),\n",
       "                                                 (&#x27;cat&#x27;,\n",
       "                                                  OneHotEncoder(handle_unknown=&#x27;ignore&#x27;),\n",
       "                                                  [&#x27;marque&#x27;, &#x27;modele&#x27;,\n",
       "                                                   &#x27;type_carrosserie&#x27;,\n",
       "                                                   &#x27;nombre_portes&#x27;,\n",
       "                                                   &#x27;type_carburant&#x27;,\n",
       "                                                   &#x27;emplacement_moteur&#x27;,\n",
       "                                                   &#x27;systeme_carburant&#x27;,\n",
       "                                                   &#x27;aspiration&#x27;,\n",
       "                                                   &#x27;roues_motrices&#x27;,\n",
       "                                                   &#x27;type_moteur&#x27;])])),\n",
       "                (&#x27;rf&#x27;, RandomForestRegressor(random_state=42))])</pre></div></div></div><div class=\"sk-serial\"><div class=\"sk-item\"><div class=\"sk-serial\"><div class=\"sk-item sk-dashed-wrapped\"><div class=\"sk-label-container\"><div class=\"sk-label sk-toggleable\"><input class=\"sk-toggleable__control sk-hidden--visually\" id=\"sk-estimator-id-3\" type=\"checkbox\" ><label for=\"sk-estimator-id-3\" class=\"sk-toggleable__label sk-toggleable__label-arrow\">prep: ColumnTransformer</label><div class=\"sk-toggleable__content\"><pre>ColumnTransformer(remainder=&#x27;passthrough&#x27;,\n",
       "                  transformers=[(&#x27;num&#x27;,\n",
       "                                 Pipeline(steps=[(&#x27;standard&#x27;, RobustScaler()),\n",
       "                                                 (&#x27;selection&#x27;,\n",
       "                                                  SelectKBest(score_func=&lt;function f_regression at 0x130f9a980&gt;))]),\n",
       "                                 [&#x27;longueur_voiture&#x27;, &#x27;hauteur_voiture&#x27;,\n",
       "                                  &#x27;largeur_voiture&#x27;, &#x27;empattement&#x27;,\n",
       "                                  &#x27;taille_moteur&#x27;, &#x27;poids_vide&#x27;,\n",
       "                                  &#x27;consommation_ville&#x27;,\n",
       "                                  &#x27;consommation_autoroute&#x27;, &#x27;puissance&#x27;,\n",
       "                                  &#x27;trmin_max&#x27;, &#x27;nombre_cylindres&#x27;, &#x27;alesage&#x27;,\n",
       "                                  &#x27;course&#x27;, &#x27;taux_compression&#x27;]),\n",
       "                                (&#x27;cat&#x27;, OneHotEncoder(handle_unknown=&#x27;ignore&#x27;),\n",
       "                                 [&#x27;marque&#x27;, &#x27;modele&#x27;, &#x27;type_carrosserie&#x27;,\n",
       "                                  &#x27;nombre_portes&#x27;, &#x27;type_carburant&#x27;,\n",
       "                                  &#x27;emplacement_moteur&#x27;, &#x27;systeme_carburant&#x27;,\n",
       "                                  &#x27;aspiration&#x27;, &#x27;roues_motrices&#x27;,\n",
       "                                  &#x27;type_moteur&#x27;])])</pre></div></div></div><div class=\"sk-parallel\"><div class=\"sk-parallel-item\"><div class=\"sk-item\"><div class=\"sk-label-container\"><div class=\"sk-label sk-toggleable\"><input class=\"sk-toggleable__control sk-hidden--visually\" id=\"sk-estimator-id-4\" type=\"checkbox\" ><label for=\"sk-estimator-id-4\" class=\"sk-toggleable__label sk-toggleable__label-arrow\">num</label><div class=\"sk-toggleable__content\"><pre>[&#x27;longueur_voiture&#x27;, &#x27;hauteur_voiture&#x27;, &#x27;largeur_voiture&#x27;, &#x27;empattement&#x27;, &#x27;taille_moteur&#x27;, &#x27;poids_vide&#x27;, &#x27;consommation_ville&#x27;, &#x27;consommation_autoroute&#x27;, &#x27;puissance&#x27;, &#x27;trmin_max&#x27;, &#x27;nombre_cylindres&#x27;, &#x27;alesage&#x27;, &#x27;course&#x27;, &#x27;taux_compression&#x27;]</pre></div></div></div><div class=\"sk-serial\"><div class=\"sk-item\"><div class=\"sk-serial\"><div class=\"sk-item\"><div class=\"sk-estimator sk-toggleable\"><input class=\"sk-toggleable__control sk-hidden--visually\" id=\"sk-estimator-id-5\" type=\"checkbox\" ><label for=\"sk-estimator-id-5\" class=\"sk-toggleable__label sk-toggleable__label-arrow\">RobustScaler</label><div class=\"sk-toggleable__content\"><pre>RobustScaler()</pre></div></div></div><div class=\"sk-item\"><div class=\"sk-estimator sk-toggleable\"><input class=\"sk-toggleable__control sk-hidden--visually\" id=\"sk-estimator-id-6\" type=\"checkbox\" ><label for=\"sk-estimator-id-6\" class=\"sk-toggleable__label sk-toggleable__label-arrow\">SelectKBest</label><div class=\"sk-toggleable__content\"><pre>SelectKBest(score_func=&lt;function f_regression at 0x130f9a980&gt;)</pre></div></div></div></div></div></div></div></div><div class=\"sk-parallel-item\"><div class=\"sk-item\"><div class=\"sk-label-container\"><div class=\"sk-label sk-toggleable\"><input class=\"sk-toggleable__control sk-hidden--visually\" id=\"sk-estimator-id-7\" type=\"checkbox\" ><label for=\"sk-estimator-id-7\" class=\"sk-toggleable__label sk-toggleable__label-arrow\">cat</label><div class=\"sk-toggleable__content\"><pre>[&#x27;marque&#x27;, &#x27;modele&#x27;, &#x27;type_carrosserie&#x27;, &#x27;nombre_portes&#x27;, &#x27;type_carburant&#x27;, &#x27;emplacement_moteur&#x27;, &#x27;systeme_carburant&#x27;, &#x27;aspiration&#x27;, &#x27;roues_motrices&#x27;, &#x27;type_moteur&#x27;]</pre></div></div></div><div class=\"sk-serial\"><div class=\"sk-item\"><div class=\"sk-estimator sk-toggleable\"><input class=\"sk-toggleable__control sk-hidden--visually\" id=\"sk-estimator-id-8\" type=\"checkbox\" ><label for=\"sk-estimator-id-8\" class=\"sk-toggleable__label sk-toggleable__label-arrow\">OneHotEncoder</label><div class=\"sk-toggleable__content\"><pre>OneHotEncoder(handle_unknown=&#x27;ignore&#x27;)</pre></div></div></div></div></div></div><div class=\"sk-parallel-item\"><div class=\"sk-item\"><div class=\"sk-label-container\"><div class=\"sk-label sk-toggleable\"><input class=\"sk-toggleable__control sk-hidden--visually\" id=\"sk-estimator-id-9\" type=\"checkbox\" ><label for=\"sk-estimator-id-9\" class=\"sk-toggleable__label sk-toggleable__label-arrow\">remainder</label><div class=\"sk-toggleable__content\"><pre></pre></div></div></div><div class=\"sk-serial\"><div class=\"sk-item\"><div class=\"sk-estimator sk-toggleable\"><input class=\"sk-toggleable__control sk-hidden--visually\" id=\"sk-estimator-id-10\" type=\"checkbox\" ><label for=\"sk-estimator-id-10\" class=\"sk-toggleable__label sk-toggleable__label-arrow\">passthrough</label><div class=\"sk-toggleable__content\"><pre>passthrough</pre></div></div></div></div></div></div></div></div><div class=\"sk-item\"><div class=\"sk-estimator sk-toggleable\"><input class=\"sk-toggleable__control sk-hidden--visually\" id=\"sk-estimator-id-11\" type=\"checkbox\" ><label for=\"sk-estimator-id-11\" class=\"sk-toggleable__label sk-toggleable__label-arrow\">RandomForestRegressor</label><div class=\"sk-toggleable__content\"><pre>RandomForestRegressor(random_state=42)</pre></div></div></div></div></div></div></div></div></div></div></div></div>"
      ],
      "text/plain": [
       "GridSearchCV(cv=5,\n",
       "             estimator=Pipeline(steps=[('prep',\n",
       "                                        ColumnTransformer(remainder='passthrough',\n",
       "                                                          transformers=[('num',\n",
       "                                                                         Pipeline(steps=[('standard',\n",
       "                                                                                          RobustScaler()),\n",
       "                                                                                         ('selection',\n",
       "                                                                                          SelectKBest(score_func=<function f_regression at 0x130f9a980>))]),\n",
       "                                                                         ['longueur_voiture',\n",
       "                                                                          'hauteur_voiture',\n",
       "                                                                          'largeur_voiture',\n",
       "                                                                          'empattement',\n",
       "                                                                          'taille_moteur',\n",
       "                                                                          'poids_vide',\n",
       "                                                                          'consommation_vi...\n",
       "                                                                          'type_carburant',\n",
       "                                                                          'emplacement_moteur',\n",
       "                                                                          'systeme_carburant',\n",
       "                                                                          'aspiration',\n",
       "                                                                          'roues_motrices',\n",
       "                                                                          'type_moteur'])])),\n",
       "                                       ('rf',\n",
       "                                        RandomForestRegressor(random_state=42))]),\n",
       "             n_jobs=-1,\n",
       "             param_grid={'rf__max_depth': [None, 10, 20, 30],\n",
       "                         'rf__min_samples_leaf': [1, 2, 4],\n",
       "                         'rf__min_samples_split': [2, 5, 10],\n",
       "                         'rf__n_estimators': [100, 200, 500]},\n",
       "             scoring='neg_mean_squared_error', verbose=1)"
      ]
     },
     "execution_count": 19,
     "metadata": {},
     "output_type": "execute_result"
    }
   ],
   "source": [
    "# Search for optimal hyperparameters using GridSearchCV\n",
    "param_grid = {\n",
    "    'rf__n_estimators': [100, 200, 500],\n",
    "    'rf__max_depth': [None, 10, 20, 30],\n",
    "    'rf__min_samples_split': [2, 5, 10],\n",
    "    'rf__min_samples_leaf': [1, 2, 4]\n",
    "}\n",
    "\n",
    "grid_search = GridSearchCV(pipe_rf, param_grid, cv=5, scoring='neg_mean_squared_error', verbose=1, n_jobs=-1)\n",
    "grid_search.fit(X_train, y_train)"
   ]
  },
  {
   "cell_type": "code",
   "execution_count": 20,
   "metadata": {},
   "outputs": [
    {
     "name": "stdout",
     "output_type": "stream",
     "text": [
      "Meilleurs paramètres trouvés :\n",
      "{'rf__max_depth': 10, 'rf__min_samples_leaf': 2, 'rf__min_samples_split': 5, 'rf__n_estimators': 500}\n"
     ]
    }
   ],
   "source": [
    "# Get the best parameters\n",
    "best_params = grid_search.best_params_\n",
    "print(\"Meilleurs paramètres trouvés :\")\n",
    "print(best_params)"
   ]
  },
  {
   "cell_type": "code",
   "execution_count": 21,
   "metadata": {},
   "outputs": [
    {
     "name": "stdout",
     "output_type": "stream",
     "text": [
      "Score R2 avec RandomForestRegressor :\n",
      "0.9491748696219666\n"
     ]
    }
   ],
   "source": [
    "# Evaluate the model with the best parameters on the test set\n",
    "best_model = grid_search.best_estimator_\n",
    "predictions = best_model.predict(X_test)\n",
    "score = best_model.score(X_test, y_test)\n",
    "print(\"Score R2 avec RandomForestRegressor :\")\n",
    "print(score)"
   ]
  },
  {
   "cell_type": "code",
   "execution_count": 22,
   "metadata": {},
   "outputs": [],
   "source": [
    "# Save the trained model\n",
    "pickle.dump(best_model, open('data/best_model.pkl', 'wb'))"
   ]
  }
 ],
 "metadata": {
  "kernelspec": {
   "display_name": "Python 3",
   "language": "python",
   "name": "python3"
  },
  "language_info": {
   "codemirror_mode": {
    "name": "ipython",
    "version": 3
   },
   "file_extension": ".py",
   "mimetype": "text/x-python",
   "name": "python",
   "nbconvert_exporter": "python",
   "pygments_lexer": "ipython3",
   "version": "3.11.3"
  },
  "orig_nbformat": 4
 },
 "nbformat": 4,
 "nbformat_minor": 2
}
