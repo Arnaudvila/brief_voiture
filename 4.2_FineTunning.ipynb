{
 "cells": [
  {
   "cell_type": "code",
   "execution_count": 42,
   "metadata": {},
   "outputs": [],
   "source": [
    "import pandas as pd\n",
    "import numpy as np\n",
    "import pickle\n",
    "from sklearn.ensemble import RandomForestRegressor\n",
    "from sklearn.feature_selection import SelectKBest, f_regression\n",
    "from sklearn.model_selection import GridSearchCV\n",
    "from sklearn.pipeline import Pipeline\n",
    "from sklearn.metrics import mean_squared_error\n",
    "from sklearn.model_selection import train_test_split\n",
    "from sklearn.preprocessing import MinMaxScaler, StandardScaler, RobustScaler, OneHotEncoder\n",
    "from sklearn.compose import ColumnTransformer\n",
    "from sklearn.preprocessing import OneHotEncoder\n"
   ]
  },
  {
   "cell_type": "code",
   "execution_count": 43,
   "metadata": {},
   "outputs": [],
   "source": [
    "# Load data\n",
    "df = pd.read_csv('data/cars_cleaned.csv')"
   ]
  },
  {
   "cell_type": "code",
   "execution_count": 44,
   "metadata": {},
   "outputs": [],
   "source": [
    "# Define X and y\n",
    "y = df['prix']\n",
    "X = df[['type_carburant', 'aspiration', 'nombre_portes', 'type_carrosserie',\n",
    "       'roues_motrices', 'emplacement_moteur', 'empattement',\n",
    "       'longueur_voiture', 'largeur_voiture', 'hauteur_voiture', 'poids_vide',\n",
    "       'type_moteur', 'nombre_cylindres', 'taille_moteur', 'systeme_carburant',\n",
    "       'alesage', 'course', 'taux_compression', 'puissance', 'trmin_max',\n",
    "       'consommation_ville', 'consommation_autoroute', 'marque',\n",
    "       'modele']]"
   ]
  },
  {
   "cell_type": "code",
   "execution_count": 45,
   "metadata": {},
   "outputs": [],
   "source": [
    "# Split data into training and test sets\n",
    "X_train, X_test, y_train, y_test = train_test_split(X, y, train_size=0.8, random_state=42)"
   ]
  },
  {
   "cell_type": "code",
   "execution_count": 46,
   "metadata": {},
   "outputs": [],
   "source": [
    "# Preprocessing pipelines preparation\n",
    "numeric_features = [\n",
    "    'longueur_voiture', 'hauteur_voiture', 'largeur_voiture', 'empattement', 'taille_moteur',\n",
    "    'poids_vide', 'consommation_ville', 'consommation_autoroute', 'puissance', 'trmin_max',\n",
    "    'nombre_cylindres', 'alesage', 'course', 'taux_compression'\n",
    "]\n",
    "\n",
    "# List of categorical features to be included\n",
    "# Uncomment and modify each list item to include/exclude features\n",
    "categorial_features = [\n",
    "    #'marque',                # Uncomment to exclude 'marque'\n",
    "    #'modele',                # Uncomment to exclude 'modele'\n",
    "    'type_carrosserie',\n",
    "    'nombre_portes',\n",
    "    'type_carburant',\n",
    "    'emplacement_moteur',\n",
    "    #'systeme_carburant',\n",
    "    #'aspiration',\n",
    "    'roues_motrices',\n",
    "    'type_moteur'\n",
    "]\n"
   ]
  },
  {
   "cell_type": "code",
   "execution_count": 47,
   "metadata": {},
   "outputs": [],
   "source": [
    "numeric_transformer_minmax = Pipeline([('minmax', MinMaxScaler())])\n",
    "numeric_transformer_std = Pipeline([('standard', StandardScaler())])\n",
    "numeric_transformer_rbst = Pipeline([('standard', RobustScaler())])\n",
    "\n",
    "categorial_transformer = OneHotEncoder(sparse_output=True, handle_unknown='ignore')"
   ]
  },
  {
   "cell_type": "code",
   "execution_count": 48,
   "metadata": {},
   "outputs": [],
   "source": [
    "# Add feature selection\n",
    "numeric_transformer_rbst = Pipeline([\n",
    "    ('standard', RobustScaler()),\n",
    "    ('selection', SelectKBest(score_func=f_regression, k=10))  # choose 10 best features\n",
    "])"
   ]
  },
  {
   "cell_type": "code",
   "execution_count": 49,
   "metadata": {},
   "outputs": [],
   "source": [
    "# Update preprocessor with feature selection\n",
    "preprocessor_rbst = ColumnTransformer(\n",
    "    transformers=[\n",
    "        ('num', numeric_transformer_rbst, numeric_features),\n",
    "        ('cat', categorial_transformer, categorial_features)\n",
    "    ],\n",
    "    remainder='passthrough'\n",
    ")"
   ]
  },
  {
   "cell_type": "code",
   "execution_count": 50,
   "metadata": {},
   "outputs": [],
   "source": [
    "# Create pipeline with RandomForestRegressor\n",
    "rf = RandomForestRegressor(random_state=42)\n",
    "pipe_rf = Pipeline([\n",
    "    ('prep', preprocessor_rbst),\n",
    "    ('rf', rf)\n",
    "])"
   ]
  },
  {
   "cell_type": "code",
   "execution_count": 51,
   "metadata": {},
   "outputs": [
    {
     "name": "stdout",
     "output_type": "stream",
     "text": [
      "Fitting 5 folds for each of 108 candidates, totalling 540 fits\n"
     ]
    }
   ],
   "source": [
    "# Search for optimal hyperparameters using GridSearchCV\n",
    "param_grid = {\n",
    "    'rf__n_estimators': [100, 200, 500],\n",
    "    'rf__max_depth': [None, 10, 20, 30],\n",
    "    'rf__min_samples_split': [2, 5, 10],\n",
    "    'rf__min_samples_leaf': [1, 2, 4]\n",
    "}\n",
    "\n",
    "grid_search = GridSearchCV(pipe_rf, param_grid, cv=5, scoring='neg_mean_squared_error', verbose=1, n_jobs=-1)\n",
    "grid_search.fit(X_train, y_train)"
   ]
  },
  {
   "cell_type": "code",
   "execution_count": null,
   "metadata": {},
   "outputs": [],
   "source": [
    "# Get the best parameters\n",
    "best_params = grid_search.best_params_\n",
    "print(\"Meilleurs paramètres trouvés :\")\n",
    "print(best_params)"
   ]
  },
  {
   "cell_type": "code",
   "execution_count": null,
   "metadata": {},
   "outputs": [],
   "source": [
    "# Evaluate the model with the best parameters on the test set\n",
    "best_model = grid_search.best_estimator_\n",
    "predictions = best_model.predict(X_test)\n",
    "score = best_model.score(X_test, y_test)\n",
    "print(\"Score R2 avec RandomForestRegressor :\")\n",
    "print(score)"
   ]
  },
  {
   "cell_type": "code",
   "execution_count": null,
   "metadata": {},
   "outputs": [],
   "source": [
    "# Save the trained model\n",
    "pickle.dump(best_model, open('data/best_model.pkl', 'wb'))"
   ]
  }
 ],
 "metadata": {
  "kernelspec": {
   "display_name": "sklearn-env",
   "language": "python",
   "name": "python3"
  },
  "language_info": {
   "codemirror_mode": {
    "name": "ipython",
    "version": 3
   },
   "file_extension": ".py",
   "mimetype": "text/x-python",
   "name": "python",
   "nbconvert_exporter": "python",
   "pygments_lexer": "ipython3",
   "version": "3.11.3"
  },
  "orig_nbformat": 4
 },
 "nbformat": 4,
 "nbformat_minor": 2
}
